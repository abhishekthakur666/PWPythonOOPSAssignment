{
  "nbformat": 4,
  "nbformat_minor": 0,
  "metadata": {
    "colab": {
      "provenance": []
    },
    "kernelspec": {
      "name": "python3",
      "display_name": "Python 3"
    },
    "language_info": {
      "name": "python"
    }
  },
  "cells": [
    {
      "cell_type": "markdown",
      "source": [
        "1. What are the five key concepts of Object-Oriented Programming (OOP) ?"
      ],
      "metadata": {
        "id": "yWvugZVr3Nos"
      }
    },
    {
      "cell_type": "markdown",
      "source": [
        "\n",
        "\n",
        "1. Classes/Objects - Template to compbine related data/functionality together\n",
        "2. Inheritance - One class inheriting the functions and properties of another class.\n",
        "3. Abstraction - Displaying only the relevant details to the end-user while hiding the irrelevant features.\n",
        "4. Encapsulation - Binding data variables and methods together in a class.\n",
        "5. Polymorphism - This concept allows the developer to assign and perform several actions using a single function.\n",
        "\n",
        "\n",
        "\n",
        "\n"
      ],
      "metadata": {
        "id": "Bv38TdnC3Vlz"
      }
    },
    {
      "cell_type": "markdown",
      "source": [
        "2. Write a Python class for a `Car` with attributes for `maker`, `model`, and `year`. Include a method to display the car's information."
      ],
      "metadata": {
        "id": "2wQ1ULNh4yfo"
      }
    },
    {
      "cell_type": "code",
      "source": [
        "# Write a Python class for a `Car` with attributes for `maker`, `model`, and `year`. Include a method to display the car's information.\n",
        "\n",
        "class Car:\n",
        "    def __init__(self, maker, model, year):\n",
        "        self.maker = maker\n",
        "        self.model = model\n",
        "        self.year = year\n",
        "\n",
        "    def display(self):\n",
        "      print(f'Make:{self.maker}, Model:{self.model}, Year:{self.year}')\n",
        "\n",
        "c = Car('tata', 'avin', '2028')\n",
        "c.display()"
      ],
      "metadata": {
        "colab": {
          "base_uri": "https://localhost:8080/"
        },
        "id": "lSJqH3tT42ey",
        "outputId": "40d7c310-58db-475a-a52e-ff2dea163f10"
      },
      "execution_count": 25,
      "outputs": [
        {
          "output_type": "stream",
          "name": "stdout",
          "text": [
            "Make:tata, Model:avin, Year:2028\n"
          ]
        }
      ]
    },
    {
      "cell_type": "markdown",
      "source": [
        "3. Explain the difference between instance methods and class methods. Provide an example of each."
      ],
      "metadata": {
        "id": "LPzqthjg52Iq"
      }
    },
    {
      "cell_type": "code",
      "source": [
        "# CLASS METHODS -\n",
        "# Class methods are associated with the class rather than instances.\n",
        "# They are defined using the @classmethod decorator and take the class itself as the first parameter, usually named cls.\n",
        "# Class methods are useful for tasks that involve the class rather than the instance, such as creating class-specific behaviors or modifying class-level attributes.\n",
        "\n",
        "#\n",
        "# INSTANCE METHODS -\n",
        "# Instance methods are associated with instances of a class and operate on the instance’s data.\n",
        "# When defining an instance method, the method’s first parameter is typically named self, which refers to the instance calling the method.\n",
        "# This allows the method to access and manipulate the instance’s attributes.\n",
        "\n",
        "\n",
        "\n",
        "# Example:\n",
        "\n",
        "class MyClass:\n",
        "    class_variable = 0\n",
        "\n",
        "    @classmethod\n",
        "    def increment_class_variable(cls):\n",
        "        cls.class_variable += 1\n",
        "\n",
        "    def __init__(self):\n",
        "        self.instance_variable = 0\n",
        "\n",
        "    def increment_instance_variable(self):\n",
        "        self.instance_variable += 1\n",
        "\n",
        "    @classmethod\n",
        "    def print_class_variable(cls):\n",
        "      print(cls.class_variable)\n",
        "\n",
        "    def print_instance_variable(self):\n",
        "      print(self.instance_variable)\n",
        "\n",
        "MyClass.increment_class_variable()\n",
        "MyClass.print_class_variable()\n",
        "\n",
        "obj1 = MyClass()\n",
        "obj1.increment_instance_variable()\n",
        "obj1.print_instance_variable()\n",
        "MyClass.increment_class_variable()\n",
        "obj1.print_class_variable()"
      ],
      "metadata": {
        "colab": {
          "base_uri": "https://localhost:8080/"
        },
        "id": "qOqLhgcv540V",
        "outputId": "87102f1d-00ae-4c54-e911-db4e51e92c72"
      },
      "execution_count": 26,
      "outputs": [
        {
          "output_type": "stream",
          "name": "stdout",
          "text": [
            "1\n",
            "1\n",
            "2\n"
          ]
        }
      ]
    },
    {
      "cell_type": "markdown",
      "source": [
        "4. How does Python implement method overloading? Give an example."
      ],
      "metadata": {
        "id": "AFizDo5C7lv5"
      }
    },
    {
      "cell_type": "code",
      "source": [
        "#Two or more methods have the same name but different numbers of parameters or different types of parameters, or both.\n",
        "#These methods are called overloaded methods and this is called method overloading.\n",
        "\n",
        "# Example\n",
        "class MyClass:\n",
        "    def my_method(self, *args):\n",
        "        if len(args) == 0:\n",
        "            print(\"No arguments provided\")\n",
        "        elif len(args) == 1:\n",
        "            print(\"One argument provided:\", args[0])\n",
        "        elif len(args) == 2:\n",
        "            print(\"Two arguments provided:\", args[0], args[1])\n",
        "        else:\n",
        "            print(\"More than two arguments provided\")\n",
        "\n",
        "\n",
        "obj = MyClass()\n",
        "obj.my_method()\n",
        "obj.my_method(10)\n",
        "obj.my_method(10, 20)\n",
        "obj.my_method(10, 20, 30)\n"
      ],
      "metadata": {
        "colab": {
          "base_uri": "https://localhost:8080/"
        },
        "id": "sI3Y4IAE7wdo",
        "outputId": "3884fed0-0c05-41e8-b05f-f335cdd88498"
      },
      "execution_count": 27,
      "outputs": [
        {
          "output_type": "stream",
          "name": "stdout",
          "text": [
            "No arguments provided\n",
            "One argument provided: 10\n",
            "Two arguments provided: 10 20\n",
            "More than two arguments provided\n"
          ]
        }
      ]
    },
    {
      "cell_type": "markdown",
      "source": [
        "5. What are the three types of access modifiers in Python? How are they denoted?"
      ],
      "metadata": {
        "id": "juLdhpTg9ZiH"
      }
    },
    {
      "cell_type": "code",
      "source": [
        "# Three types of access modifiers:\n",
        "\n",
        "# 1. Public:\n",
        "#    - Members declared as public are accessible from anywhere, both within and outside the class.\n",
        "#    - By default, all members in Python are public.\n",
        "#    - Example:\n",
        "class MyClass:\n",
        "    def my_public_method(self):\n",
        "              print(\"This is public method\")\n",
        "\n",
        "# 2. Protected:\n",
        "#    - Members declared as protected are accessible within the class and its subclasses.\n",
        "#    - They are denoted by a single underscore prefix before the member name (e.g., _protected_variable).\n",
        "#    - Example:\n",
        "class MyClass:\n",
        "    def __init__(self):\n",
        "       self._protected_variable = 0\n",
        "\n",
        "# 3. Private:\n",
        "#    - Members declared as private are intended to be accessible only within the class itself.\n",
        "#    - They are denoted by a double underscore prefix before the member name (e.g., __private_variable).\n",
        "#    - Python uses name mangling to prevent accidental access from outside the class.\n",
        "#    - Example:\n",
        "class MyClass:\n",
        "  def __init__(self):\n",
        "    self.__private_variable = 0\n"
      ],
      "metadata": {
        "id": "Fxq5DOR78qFa"
      },
      "execution_count": 28,
      "outputs": []
    },
    {
      "cell_type": "markdown",
      "source": [
        "6. Describe the five types of inheritance in Python. Provide a simple example of multiple inheritance."
      ],
      "metadata": {
        "id": "8j30o_UvAZKK"
      }
    },
    {
      "cell_type": "code",
      "source": [
        "# 1. Single Inheritance: A subclass inherits from only one superclass.\n",
        "# 2. Multiple Inheritance: A subclass inherits from multiple superclasses.\n",
        "# 3. Multilevel Inheritance: A subclass inherits from a superclass, which in turn inherits from another superclass.\n",
        "# 4. Hierarchical Inheritance: Multiple subclasses inherit from a single superclass.\n",
        "# 5. Hybrid Inheritance: A combination of different types of inheritance.\n",
        "\n",
        "\n",
        "# Example of Multiple Inheritance:\n",
        "\n",
        "class Animal:\n",
        "    def __init__(self, name):\n",
        "        self.name = name\n",
        "\n",
        "    def eat(self):\n",
        "        print(f\"{self.name} is eating.\")\n",
        "\n",
        "\n",
        "class Flyable:\n",
        "    def fly(self):\n",
        "        print(\"Flying.\")\n",
        "\n",
        "class Bird(Animal, Flyable):  # Inherits from both Animal and Flyable\n",
        "    def __init__(self, name):\n",
        "        super().__init__(name)\n",
        "\n",
        "bird = Bird(\"Sparrow\")\n",
        "bird.eat()  # Inherited from Animal\n",
        "bird.fly()  # Inherited from Flyable\n"
      ],
      "metadata": {
        "colab": {
          "base_uri": "https://localhost:8080/"
        },
        "id": "8zvSOO-OAt7X",
        "outputId": "e0bb61aa-c7ca-48e2-bd7d-15951441a4f6"
      },
      "execution_count": 29,
      "outputs": [
        {
          "output_type": "stream",
          "name": "stdout",
          "text": [
            "Sparrow is eating.\n",
            "Flying.\n"
          ]
        }
      ]
    },
    {
      "cell_type": "markdown",
      "source": [
        "7. What is the Method Resolution Order (MRO) in Python ? How can you retrieve it programmatically?"
      ],
      "metadata": {
        "id": "5Hagw8HYBGto"
      }
    },
    {
      "cell_type": "code",
      "source": [
        "# Method Resolution Order (MRO) is the sequence in which Python looks for a method in a hierarchy of classes.\n",
        "# It's a set of rules that constructs the class precedence list, or the list of ancestors of a class\n",
        "\n",
        "#Example -\n",
        "class A:\n",
        "    def method(self):\n",
        "        print(\"Method in A\")\n",
        "\n",
        "class B(A):\n",
        "    def method(self):\n",
        "        print(\"Method in B\")\n",
        "\n",
        "class C(A):\n",
        "    def method(self):\n",
        "        print(\"Method in C\")\n",
        "\n",
        "class D(B, C):\n",
        "    pass\n",
        "\n",
        "# Get the MRO of class D\n",
        "print(D.__mro__)\n",
        "d = D()\n",
        "d.method()\n"
      ],
      "metadata": {
        "colab": {
          "base_uri": "https://localhost:8080/"
        },
        "id": "oMbEy-RcBR9N",
        "outputId": "61b51b24-7fd7-4b80-d6a8-7a04128a9b82"
      },
      "execution_count": 30,
      "outputs": [
        {
          "output_type": "stream",
          "name": "stdout",
          "text": [
            "(<class '__main__.D'>, <class '__main__.B'>, <class '__main__.C'>, <class '__main__.A'>, <class 'object'>)\n",
            "Method in B\n"
          ]
        }
      ]
    },
    {
      "cell_type": "markdown",
      "source": [
        "8. Create an abstract base class `Shape` with an abstract method `area()`.Then create two subclasses `Circle` and `Rectangle` that implement the `area()` method."
      ],
      "metadata": {
        "id": "QRZIMURoCTsj"
      }
    },
    {
      "cell_type": "code",
      "source": [
        "from abc import ABC, abstractmethod\n",
        "import math\n",
        "\n",
        "class Shape(ABC):\n",
        "    def area(self):\n",
        "        pass\n",
        "\n",
        "class Circle(Shape):\n",
        "    def __init__(self, radius):\n",
        "        self.radius = radius\n",
        "\n",
        "    def area(self):\n",
        "        return math.pi * self.radius ** 2\n",
        "\n",
        "\n",
        "class Rectangle(Shape):\n",
        "    def __init__(self, width, height):\n",
        "        self.width = width\n",
        "        self.height = height\n",
        "\n",
        "    def area(self):\n",
        "        return self.width * self.height\n",
        "\n",
        "\n",
        "circle = Circle(5)\n",
        "rectangle = Rectangle(4, 6)\n",
        "\n",
        "print(f\"Circle Area: {circle.area()}\")\n",
        "print(f\"Rectangle Area: {rectangle.area()}\")\n"
      ],
      "metadata": {
        "colab": {
          "base_uri": "https://localhost:8080/"
        },
        "id": "d9PzQv3fCk9S",
        "outputId": "2cbc7710-bc3d-4bad-a0ef-7354ea772c5e"
      },
      "execution_count": 31,
      "outputs": [
        {
          "output_type": "stream",
          "name": "stdout",
          "text": [
            "Circle Area: 78.53981633974483\n",
            "Rectangle Area: 24\n"
          ]
        }
      ]
    },
    {
      "cell_type": "markdown",
      "source": [
        "9. Demonstrate polymorphism by creating a function that can work with different shape objects to calculate\n",
        "and print their areas."
      ],
      "metadata": {
        "id": "q18MYBAqD4Wh"
      }
    },
    {
      "cell_type": "code",
      "source": [
        "from abc import ABC, abstractmethod\n",
        "import math\n",
        "\n",
        "class Shape(ABC):\n",
        "    @abstractmethod\n",
        "    def area(self):\n",
        "        pass\n",
        "\n",
        "class Circle(Shape):\n",
        "    def __init__(self, radius):\n",
        "        self.radius = radius\n",
        "\n",
        "    def area(self):\n",
        "        return math.pi * self.radius ** 2\n",
        "\n",
        "\n",
        "class Rectangle(Shape):\n",
        "    def __init__(self, width, height):\n",
        "        self.width = width\n",
        "        self.height = height\n",
        "\n",
        "    def area(self):\n",
        "        return self.width * self.height\n",
        "\n",
        "\n",
        "def print_area(shape):\n",
        "    print(f\"The area of the shape is: {shape.area()}\")\n",
        "\n",
        "circle = Circle(5)\n",
        "rectangle = Rectangle(4, 6)\n",
        "\n",
        "print_area(circle)\n",
        "print_area(rectangle)\n"
      ],
      "metadata": {
        "colab": {
          "base_uri": "https://localhost:8080/"
        },
        "id": "nQBAeIM5EbHz",
        "outputId": "bb07e841-4000-4ae2-f240-e15a1c9684ce"
      },
      "execution_count": 32,
      "outputs": [
        {
          "output_type": "stream",
          "name": "stdout",
          "text": [
            "The area of the shape is: 78.53981633974483\n",
            "The area of the shape is: 24\n"
          ]
        }
      ]
    },
    {
      "cell_type": "markdown",
      "source": [
        "10. Implement encapsulation in a `BankAccount` class with private attributes for `balance` and\n",
        "`account_number`. Include methods for deposit, withdrawal, and balance inquiry."
      ],
      "metadata": {
        "id": "x2rLW-TLEmoo"
      }
    },
    {
      "cell_type": "code",
      "source": [
        "class BankAccount:\n",
        "    def __init__(self, account_number, initial_balance=0):\n",
        "        self.__account_number = account_number\n",
        "        self.__balance = initial_balance\n",
        "\n",
        "    def deposit(self, amount):\n",
        "        if amount > 0:\n",
        "            self.__balance += amount\n",
        "            print(f\"Deposited {amount}. New balance: {self.__balance}\")\n",
        "        else:\n",
        "            print(\"Invalid deposit amount.\")\n",
        "\n",
        "    def withdraw(self, amount):\n",
        "        if amount > 0 and amount <= self.__balance:\n",
        "            self.__balance -= amount\n",
        "            print(f\"Withdrew {amount}. New balance: {self.__balance}\")\n",
        "        else:\n",
        "            print(\"Invalid withdrawal amount or insufficient funds.\")\n",
        "\n",
        "    def get_balance(self):\n",
        "        print(f\"Account balance: {self.__balance}\")\n",
        "\n",
        "\n",
        "# Create an account\n",
        "account = BankAccount(\"21283833\", 1000)\n",
        "\n",
        "# Deposit money\n",
        "account.deposit(500)\n",
        "\n",
        "# Withdraw money\n",
        "account.withdraw(200)\n",
        "\n",
        "# Check the balance\n",
        "account.get_balance()\n"
      ],
      "metadata": {
        "colab": {
          "base_uri": "https://localhost:8080/"
        },
        "id": "NNyeWwAcExuq",
        "outputId": "2a75beef-56f2-4ec6-d000-0b4b132a3908"
      },
      "execution_count": 33,
      "outputs": [
        {
          "output_type": "stream",
          "name": "stdout",
          "text": [
            "Deposited 500. New balance: 1500\n",
            "Withdrew 200. New balance: 1300\n",
            "Account balance: 1300\n"
          ]
        }
      ]
    },
    {
      "cell_type": "markdown",
      "source": [
        "11. Write a class that overrides the `__str__` and `__add__` magic methods. What will these methods allow\n",
        "you to do?"
      ],
      "metadata": {
        "id": "jsOduWkrFAsU"
      }
    },
    {
      "cell_type": "code",
      "source": [
        "class MyClass:\n",
        "    def __init__(self, value):\n",
        "        self.value = value\n",
        "\n",
        "    def __str__(self):\n",
        "        return f\"MyClass object with value: {self.value}\"\n",
        "\n",
        "    def __add__(self, other):\n",
        "        if isinstance(other, MyClass):\n",
        "            return MyClass(self.value + other.value)\n",
        "        else:\n",
        "            return MyClass(self.value + other)\n",
        "\n",
        "\n",
        "obj1 = MyClass(10)\n",
        "obj2 = MyClass(20)\n",
        "\n",
        "print(obj1)  # Output: MyClass object with value: 10\n",
        "print(obj1 + obj2)  # Output: MyClass object with value: 30\n",
        "print(obj1 + 5)  # Output: MyClass object with value: 15\n"
      ],
      "metadata": {
        "colab": {
          "base_uri": "https://localhost:8080/"
        },
        "id": "qgSZxp7GFOup",
        "outputId": "e89d4427-c042-42bd-a2f8-1cae9b298516"
      },
      "execution_count": 34,
      "outputs": [
        {
          "output_type": "stream",
          "name": "stdout",
          "text": [
            "MyClass object with value: 10\n",
            "MyClass object with value: 30\n",
            "MyClass object with value: 15\n"
          ]
        }
      ]
    },
    {
      "cell_type": "markdown",
      "source": [
        "12. Create a decorator that measures and prints the execution time of a function."
      ],
      "metadata": {
        "id": "ZxeS0BnJFtm9"
      }
    },
    {
      "cell_type": "code",
      "source": [
        "import time\n",
        "\n",
        "def runtime(func):\n",
        "    def wrapper(*args, **kwargs):\n",
        "        start_time = time.time()\n",
        "        result = func(*args, **kwargs)\n",
        "        end_time = time.time()\n",
        "        print(f\"Function {func.__name__} took {end_time - start_time:.4f} seconds to execute.\")\n",
        "        return result\n",
        "    return wrapper\n",
        "\n",
        "@runtime\n",
        "def my_function():\n",
        "    for i in range(1000000):\n",
        "        pass\n",
        "\n",
        "my_function()\n"
      ],
      "metadata": {
        "colab": {
          "base_uri": "https://localhost:8080/"
        },
        "id": "4VlOV4IfF01f",
        "outputId": "9d0b0f4e-c851-4a26-80e0-4e9557101352"
      },
      "execution_count": 35,
      "outputs": [
        {
          "output_type": "stream",
          "name": "stdout",
          "text": [
            "Function my_function took 0.0338 seconds to execute.\n"
          ]
        }
      ]
    },
    {
      "cell_type": "markdown",
      "source": [
        "13. Explain the concept of the Diamond Problem in multiple inheritance. How does Python resolve it?"
      ],
      "metadata": {
        "id": "WDZEKLeAGMXu"
      }
    },
    {
      "cell_type": "code",
      "source": [
        "# The Diamond Problem in Multiple Inheritance\n",
        "\n",
        "# The diamond problem occurs in multiple inheritance when a class inherits from two classes that have a common ancestor.\n",
        "# This creates a diamond-shaped inheritance hierarchy, and if both parent classes have a method with the same name,\n",
        "# it becomes ambiguous which method the child class should inherit.\n",
        "\n",
        "\n",
        "class A:\n",
        "    def method(self):\n",
        "        print(\"Method in A\")\n",
        "\n",
        "\n",
        "class B(A):\n",
        "    def method(self):\n",
        "        print(\"Method in B\")\n",
        "\n",
        "\n",
        "class C(A):\n",
        "    def method(self):\n",
        "        print(\"Method in C\")\n",
        "\n",
        "\n",
        "class D(B, C):\n",
        "    pass\n",
        "\n",
        "\n",
        "d = D()\n",
        "d.method()\n",
        "\n",
        "# Python resolves the diamond problem using Method Resolution Order (MRO)\n",
        "# The MRO is a linear ordering of the classes that guarantees that a class is searched before its parents.\n",
        "# It follows the C3 linearization algorithm.\n",
        "\n",
        "# In this example, the MRO for class D would be:\n",
        "# D -> B -> C -> A\n",
        "\n",
        "\n",
        "# This ensures that when the method is called on an instance of D, the method in B will be used.\n",
        "# Python's MRO algorithm carefully considers the order of inheritance to ensure that each class is visited only once.\n"
      ],
      "metadata": {
        "colab": {
          "base_uri": "https://localhost:8080/"
        },
        "id": "GA_UvjX7GXwb",
        "outputId": "4bb4cc28-bc0d-4791-e344-a48a2ac82d0a"
      },
      "execution_count": 36,
      "outputs": [
        {
          "output_type": "stream",
          "name": "stdout",
          "text": [
            "Method in B\n"
          ]
        }
      ]
    },
    {
      "cell_type": "markdown",
      "source": [
        "14. Write a class method that keeps track of the number of instances created from a class"
      ],
      "metadata": {
        "id": "wbcO6M5CGkN8"
      }
    },
    {
      "cell_type": "code",
      "source": [
        "\n",
        "class MyClass:\n",
        "    instance_count = 0\n",
        "\n",
        "    def __init__(self):\n",
        "        MyClass.instance_count += 1\n",
        "\n",
        "    @classmethod\n",
        "    def get_instance_count(cls):\n",
        "        return cls.instance_count\n",
        "\n",
        "\n",
        "obj1 = MyClass()\n",
        "obj2 = MyClass()\n",
        "obj3 = MyClass()\n",
        "\n",
        "print(f\"Number of instances created: {MyClass.get_instance_count()}\")\n"
      ],
      "metadata": {
        "colab": {
          "base_uri": "https://localhost:8080/"
        },
        "id": "4_iOWImnGmfY",
        "outputId": "7fa86025-63b2-4119-cd91-4c4c45ff3301"
      },
      "execution_count": 37,
      "outputs": [
        {
          "output_type": "stream",
          "name": "stdout",
          "text": [
            "Number of instances created: 3\n"
          ]
        }
      ]
    },
    {
      "cell_type": "markdown",
      "source": [
        "15. Implement a static method in a class that checks if a given year is a leap year."
      ],
      "metadata": {
        "id": "QEnT4Y9TGzhw"
      }
    },
    {
      "cell_type": "code",
      "source": [
        "class MyCalendar:\n",
        "    @staticmethod\n",
        "    def is_leap_year(year):\n",
        "        if (year % 4 == 0 and year % 100 != 0) or year % 400 == 0:\n",
        "            return True\n",
        "        else:\n",
        "            return False\n",
        "\n",
        "\n",
        "print(MyCalendar.is_leap_year(2024))  # True\n",
        "print(MyCalendar.is_leap_year(2023))  # False\n"
      ],
      "metadata": {
        "colab": {
          "base_uri": "https://localhost:8080/"
        },
        "id": "LVlA5UIqG04r",
        "outputId": "30f6f5d9-4040-41ff-e398-2d9c60e65fab"
      },
      "execution_count": 38,
      "outputs": [
        {
          "output_type": "stream",
          "name": "stdout",
          "text": [
            "True\n",
            "False\n"
          ]
        }
      ]
    },
    {
      "cell_type": "code",
      "source": [],
      "metadata": {
        "id": "emTCxjEdHEW-"
      },
      "execution_count": 38,
      "outputs": []
    }
  ]
}